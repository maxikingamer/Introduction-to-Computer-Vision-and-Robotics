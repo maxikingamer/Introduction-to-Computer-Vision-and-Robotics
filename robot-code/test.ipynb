{
 "cells": [
  {
   "cell_type": "code",
   "execution_count": 2,
   "metadata": {},
   "outputs": [
    {
     "name": "stdout",
     "output_type": "stream",
     "text": [
      "(11, 3)\n",
      "(3, 3)\n",
      "(4, 3)\n",
      "(4, 3)\n"
     ]
    },
    {
     "data": {
      "image/png": "[encoded data removed]",
      "text/plain": [
       "<Figure size 640x480 with 1 Axes>"
      ]
     },
     "metadata": {},
     "output_type": "display_data"
    }
   ],
   "source": [
    "import numpy as np\n",
    "from discretizer import Discretizer\n",
    "from a_star import A_Star\n",
    "import matplotlib.pyplot as plt\n",
    "import ev3_dc as ev3\n",
    "\n",
    "trajectory = []\n",
    "path = []\n",
    "\n",
    "class Main():\n",
    "    def __init__(self) -> None:\n",
    "        global trajectory\n",
    "        global path\n",
    "\n",
    "        world_coords=[300,300]\n",
    "        landmarks = np.loadtxt(\"landmarks.csv\", delimiter=\",\")\n",
    "        discretizer = Discretizer(landmarks, world_coords=world_coords)\n",
    "        discretizer.createMap(surrounding=12)\n",
    "\n",
    "        a_star = A_Star(discretizer.middle_point[:2], [270,210], discretizer.world_map.transpose(1,0))\n",
    "        path = a_star.find_path()\n",
    "        d=a_star.d[1:world_coords[0]+1,1:world_coords[1]+1]\n",
    "        trajectory = a_star.plan_trajectory(5)\n",
    "\n",
    "        # plot shortest path\n",
    "        plt.figure('Shortest path')\n",
    "        plt.imshow(a_star.world_map, origin=\"lower\")\n",
    "        plt.plot(path[1],path[0], color=\"black\", lw=2)\n",
    "        plt.plot(a_star.start[1]+1,a_star.start[0]+1,'g.',markersize=20)\n",
    "        plt.plot(a_star.goal[1]+1,a_star.goal[0]+1,'r.',markersize=20)\n",
    "\n",
    "\n",
    "        for move in trajectory:\n",
    "            plt.plot([move[0][1], move[1][1]], [move[0][0], move[1][0]], color=\"red\", lw=2)\n",
    "\n",
    "        plt.show()\n",
    "\n",
    "        # self.drivePath(trajectory)\n",
    "\n",
    "    def drivePath(self, trajectory):\n",
    "        try:\n",
    "            vehicle = ev3.TwoWheelVehicle (\n",
    "                0.0280,\n",
    "                0.1392, \n",
    "                protocol=ev3.USB\n",
    "            ) \n",
    "            print(\"Start driving!\")\n",
    "            for move in trajectory:\n",
    "                print(f\"drive with {np.degrees(move[3])}\")\n",
    "                vehicle.drive_turn(np.degrees(move[3]), 0.0).start(thread=False)\n",
    "                print(f\"drive straight for {move[2]}cm\")\n",
    "                vehicle.drive_straight(move[2]).start(thread=False)\n",
    "\n",
    "        except Exception as e:\n",
    "                    print(e)\n",
    "        vehicle.stop()\n",
    "\t\n",
    "if __name__ == '__main__':\n",
    "    main = Main()\n"
   ]
  },
  {
   "cell_type": "code",
   "execution_count": 1,
   "metadata": {},
   "outputs": [],
   "source": [
    "trajectory = [[[151, 151], [195, 151], 0.44, 0.01],\n",
    "            [[195, 151], [229, 162], 0.35735136770411274, 0.3029012278803845],\n",
    "            [[229, 162], [249, 186], 0.31240998703626616, 0.563156822717809],\n",
    "            [[249, 186], [270, 210], 0.3189043743820395, -0.024091723424921274]]"
   ]
  },
  {
   "cell_type": "code",
   "execution_count": 2,
   "metadata": {},
   "outputs": [
    {
     "name": "stdout",
     "output_type": "stream",
     "text": [
      "Start driving!\n",
      "drive straight for 0.44cm\n",
      "turn with 17.354961966876413 degrees\n",
      "drive straight for 0.35735136770411274cm\n",
      "turn with 32.266509145727575 degrees\n",
      "drive straight for 0.31240998703626616cm\n",
      "turn with -1.38035407344445 degrees\n",
      "drive straight for 0.3189043743820395cm\n"
     ]
    }
   ],
   "source": [
    "import ev3_dc as ev3\n",
    "import numpy as np\n",
    "\n",
    "try:\n",
    "    vehicle = ev3.TwoWheelVehicle (\n",
    "        0.0280,\n",
    "        0.1392, \n",
    "        protocol=ev3.USB\n",
    "    ) \n",
    "    print(\"Start driving!\")\n",
    "    speed = 20\n",
    "    for move in trajectory:\n",
    "        if np.degrees(move[3]) > 1 or np.degrees(move[3]) < -1 :\n",
    "            print(f\"turn with {np.degrees(move[3])} degrees\")\n",
    "            vehicle.drive_turn(-np.degrees(move[3]), 0.0).start(thread=False)\n",
    "        if move[2]>0.01:\n",
    "            print(f\"drive straight for {move[2]}cm\")\n",
    "            vehicle.drive_straight(move[2], speed=speed).start(thread=False)\n",
    "\n",
    "except Exception as e:\n",
    "    print(e)\n",
    "\n",
    "vehicle.stop()\n"
   ]
  },
  {
   "cell_type": "code",
   "execution_count": 4,
   "metadata": {},
   "outputs": [
    {
     "data": {
      "text/plain": [
       "[[[151, 151], [195, 151], 0.44, 0.01],\n",
       " [[195, 151], [229, 162], 0.35735136770411274, 0.3029012278803845],\n",
       " [[229, 162], [249, 186], 0.31240998703626616, 0.563156822717809],\n",
       " [[249, 186], [270, 210], 0.3189043743820395, -0.024091723424921274]]"
      ]
     },
     "execution_count": 4,
     "metadata": {},
     "output_type": "execute_result"
    }
   ],
   "source": [
    "trajectory"
   ]
  },
  {
   "cell_type": "code",
   "execution_count": null,
   "metadata": {},
   "outputs": [],
   "source": []
  }
 ],
 "metadata": {
  "kernelspec": {
   "display_name": "Python 3",
   "language": "python",
   "name": "python3"
  },
  "language_info": {
   "codemirror_mode": {
    "name": "ipython",
    "version": 3
   },
   "file_extension": ".py",
   "mimetype": "text/x-python",
   "name": "python",
   "nbconvert_exporter": "python",
   "pygments_lexer": "ipython3",
   "version": "3.9.2 (default, Feb 28 2021, 17:03:44) \n[GCC 10.2.1 20210110]"
  },
  "orig_nbformat": 4,
  "vscode": {
   "interpreter": {
    "hash": "e7370f93d1d0cde622a1f8e1c04877d8463912d04d973331ad4851f04de6915a"
   }
  }
 },
 "nbformat": 4,
 "nbformat_minor": 2
}
