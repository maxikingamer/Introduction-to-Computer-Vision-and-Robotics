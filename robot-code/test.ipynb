{
 "cells": [
  {
   "cell_type": "code",
   "execution_count": 1,
   "metadata": {},
   "outputs": [
    {
     "name": "stdout",
     "output_type": "stream",
     "text": [
      "[188, 188]\n"
     ]
    },
    {
     "data": {
      "image/png": "[encoded data removed]",
      "text/plain": [
       "<Figure size 640x480 with 1 Axes>"
      ]
     },
     "metadata": {},
     "output_type": "display_data"
    },
    {
     "name": "stdout",
     "output_type": "stream",
     "text": [
      "[[[31, 36], [28, 37], 0.0316227766016838, 2.819842099193151], [[28, 37], [27, 38], 0.01414213562373095, -0.46364760900080615], [[27, 38], [19, 41], 0.2268613936904848, 0.4266274931268761], [[19, 41], [18, 41], 0.01, 0.3587706702705722], [[18, 41], [13, 40], 0.05099019513592785, -6.085789747329706], [[13, 40], [12, 38], 0.022360679774997897, 0.90975315794421], [[12, 38], [12, 30], 0.09414213562373096, 0.14189705460416402], [[12, 30], [13, 31], 0.01414213562373095, 2.677945044588987]]\n",
      "8\n"
     ]
    },
    {
     "data": {
      "image/png": "[encoded data removed]",
      "text/plain": [
       "<Figure size 640x480 with 1 Axes>"
      ]
     },
     "metadata": {},
     "output_type": "display_data"
    }
   ],
   "source": [
    "import numpy as np\n",
    "from discretizer import Discretizer\n",
    "from a_star import A_Star\n",
    "import matplotlib.pyplot as plt\n",
    "import ev3_dc as ev3\n",
    "from matplotlib import colors\n",
    "\n",
    "trajectory = []\n",
    "path = []\n",
    "\n",
    "class Main():\n",
    "    def __init__(self) -> None:\n",
    "        global trajectory\n",
    "        global path\n",
    "\n",
    "        landmarks = np.loadtxt(\"landmarks.csv\", delimiter=\",\")\n",
    "\n",
    "        size_x = int((max(np.abs(landmarks[:,0])))+10)\n",
    "        size_y = int((max(np.abs(landmarks[:,1])))+10)\n",
    "        world_coords=[max(size_x, size_y)*2, max(size_x, size_y)*2]\n",
    "        print(world_coords)\n",
    "        discretizer = Discretizer(landmarks, grid_size=3, world_coords=world_coords)\n",
    "        discretizer.createMap(surrounding=8)\n",
    "        \n",
    "        cmap = colors.ListedColormap(['white', 'green', 'red', 'blue', 'black', 'orange', 'brown', 'pink', \"yellow\"])\n",
    "        plt.figure('Shortest path')\n",
    "        plt.imshow( discretizer.world_map.transpose(1,0), origin=\"lower\", cmap=cmap, vmin=0, vmax=8)\n",
    "        plt.show()\n",
    "\n",
    "\n",
    "        middle_point = np.array([int(world_coords[0]/2), int(world_coords[1]/2)])\n",
    "        current_pos = [30, 35]\n",
    "        end = [13,31]\n",
    "        \n",
    "        a_star = A_Star(current_pos, end, discretizer.world_map.transpose(1,0))\n",
    "        path = a_star.find_path()\n",
    "        d=a_star.d[1:world_coords[0]+1,1:world_coords[1]+1]\n",
    "        # trajectory = a_star.plan_trajectory(12)\n",
    "        trajectory = a_star.plan_trajectory()\n",
    "        print(trajectory)\n",
    "        print(len(trajectory))\n",
    "\n",
    "        # plot shortest path\n",
    "        #  0 = background / 1,2,3 = Markers / 4 = border / 5 = padding / 6 = start/finish / discs = 7 /\n",
    "        cmap = colors.ListedColormap(['white', 'green', 'red', 'blue', 'black', 'orange', 'brown', 'pink', 'yellow'])\n",
    "        plt.figure('Shortest path')\n",
    "        plt.imshow(a_star.world_map + discretizer.mask.transpose(1,0), origin=\"lower\", cmap=cmap, vmin=0, vmax=8)\n",
    "        plt.plot(path[1],path[0], color=\"black\", lw=2, label = 'A-Star')\n",
    "        plt.plot(a_star.start[1]+1,a_star.start[0]+1,'g.',markersize=20)\n",
    "        plt.plot(a_star.goal[1]+1,a_star.goal[0]+1,'r.',markersize=20)\n",
    "\n",
    "\n",
    "        for move in trajectory:\n",
    "            if move ==trajectory[-1]:\n",
    "                plt.plot([move[0][1], move[1][1]], [move[0][0], move[1][0]], color=\"red\", lw=2, label = 'Trajectory')\n",
    "            else:\n",
    "                plt.plot([move[0][1], move[1][1]], [move[0][0], move[1][0]], color=\"red\", lw=2)\n",
    "        plt.legend()\n",
    "        plt.show()\n",
    "\n",
    "        # self.drivePath(trajectory)\n",
    "\n",
    "    def drivePath(self, trajectory):\n",
    "        try:\n",
    "            vehicle = ev3.TwoWheelVehicle (\n",
    "                0.0280,\n",
    "                0.1392, \n",
    "                protocol=ev3.USB\n",
    "            ) \n",
    "            print(\"Start driving!\")\n",
    "            for move in trajectory:\n",
    "                print(f\"drive with {np.degrees(move[3])}\")\n",
    "                vehicle.drive_turn(np.degrees(move[3]), 0.0).start(thread=False)\n",
    "                print(f\"drive straight for {move[2]}cm\")\n",
    "                vehicle.drive_straight(move[2]).start(thread=False)\n",
    "\n",
    "        except Exception as e:\n",
    "                    print(e)\n",
    "        vehicle.stop()\n",
    "\t\n",
    "if __name__ == '__main__':\n",
    "    main = Main()\n"
   ]
  },
  {
   "cell_type": "code",
   "execution_count": 2,
   "metadata": {},
   "outputs": [
    {
     "name": "stdout",
     "output_type": "stream",
     "text": [
      "drive_track\n",
      "world coords\n",
      "[224, 224]\n",
      "created\n",
      "discretized\n",
      "[57 70]\n",
      "[57 92]\n",
      "path created\n"
     ]
    },
    {
     "ename": "TypeError",
     "evalue": "plan_trajectory() takes 1 positional argument but 2 were given",
     "output_type": "error",
     "traceback": [
      "\u001b[0;31m---------------------------------------------------------------------------\u001b[0m",
      "\u001b[0;31mTypeError\u001b[0m                                 Traceback (most recent call last)",
      "Cell \u001b[0;32mIn [2], line 41\u001b[0m\n\u001b[1;32m     38\u001b[0m     \u001b[39mprint\u001b[39m(trajectory)\n\u001b[1;32m     40\u001b[0m landmarks \u001b[39m=\u001b[39m np\u001b[39m.\u001b[39mloadtxt(\u001b[39m\"\u001b[39m\u001b[39mlandmarks.csv\u001b[39m\u001b[39m\"\u001b[39m, delimiter\u001b[39m=\u001b[39m\u001b[39m\"\u001b[39m\u001b[39m,\u001b[39m\u001b[39m\"\u001b[39m)\n\u001b[0;32m---> 41\u001b[0m drive_track(\u001b[39mNone\u001b[39;49;00m, landmarks)\n",
      "Cell \u001b[0;32mIn [2], line 21\u001b[0m, in \u001b[0;36mdrive_track\u001b[0;34m(vehicle, landmarks)\u001b[0m\n\u001b[1;32m     19\u001b[0m path \u001b[39m=\u001b[39m a_star\u001b[39m.\u001b[39mfind_path()\n\u001b[1;32m     20\u001b[0m \u001b[39mprint\u001b[39m(\u001b[39m'\u001b[39m\u001b[39mpath created\u001b[39m\u001b[39m'\u001b[39m)\n\u001b[0;32m---> 21\u001b[0m trajectory \u001b[39m=\u001b[39m a_star\u001b[39m.\u001b[39;49mplan_trajectory(\u001b[39m3\u001b[39;49m)\n\u001b[1;32m     23\u001b[0m \u001b[39mprint\u001b[39m(\u001b[39m'\u001b[39m\u001b[39mstarting plot\u001b[39m\u001b[39m'\u001b[39m)\n\u001b[1;32m     24\u001b[0m cmap \u001b[39m=\u001b[39m colors\u001b[39m.\u001b[39mListedColormap([\u001b[39m'\u001b[39m\u001b[39mwhite\u001b[39m\u001b[39m'\u001b[39m, \u001b[39m'\u001b[39m\u001b[39mgreen\u001b[39m\u001b[39m'\u001b[39m, \u001b[39m'\u001b[39m\u001b[39mred\u001b[39m\u001b[39m'\u001b[39m, \u001b[39m'\u001b[39m\u001b[39mblue\u001b[39m\u001b[39m'\u001b[39m, \u001b[39m'\u001b[39m\u001b[39mblack\u001b[39m\u001b[39m'\u001b[39m, \u001b[39m'\u001b[39m\u001b[39morange\u001b[39m\u001b[39m'\u001b[39m, \u001b[39m'\u001b[39m\u001b[39mbrown\u001b[39m\u001b[39m'\u001b[39m, \u001b[39m'\u001b[39m\u001b[39mpink\u001b[39m\u001b[39m'\u001b[39m])\n",
      "\u001b[0;31mTypeError\u001b[0m: plan_trajectory() takes 1 positional argument but 2 were given"
     ]
    }
   ],
   "source": [
    "def drive_track(vehicle,landmarks):\n",
    "    print('drive_track')\n",
    "    grid_size = 2\n",
    "    size_x = int((max(landmarks[:,0])-min(landmarks[:,0]))+10)\n",
    "    size_y = int((max(landmarks[:,1])-min(landmarks[:,1]))+10)\n",
    "    world_coords=[max(size_x, size_y)*2, max(size_x, size_y)*2]\n",
    "    print('world coords')\n",
    "    print(world_coords)\n",
    "    discretizer = Discretizer(landmarks, grid_size=grid_size, world_coords=world_coords)\n",
    "    print('created')\n",
    "    discretizer.createMap(surrounding=6)\n",
    "    print('discretized')\n",
    "    middle_point = np.array([int(world_coords[0]/2), int(world_coords[1]/2)])\n",
    "    start = np.array([1,1]) + ((np.array([0,27]) + middle_point)/grid_size).astype(int)\n",
    "    end = np.array([1,1]) + ((np.array([0,70]) + middle_point)/grid_size).astype(int)\n",
    "    print(start)\n",
    "    print(end)\n",
    "    a_star = A_Star(list(start), list(end), discretizer.world_map.transpose(1,0))\n",
    "    path = a_star.find_path()\n",
    "    print('path created')\n",
    "    trajectory = a_star.plan_trajectory(3)\n",
    "\n",
    "    print('starting plot')\n",
    "    cmap = colors.ListedColormap(['white', 'green', 'red', 'blue', 'black', 'orange', 'brown', 'pink'])\n",
    "    plt.figure('Shortest path')\n",
    "    plt.imshow(a_star.world_map + discretizer.mask.transpose(1,0), origin=\"lower\", cmap=cmap, vmin=0, vmax=7)\n",
    "    plt.plot(path[1],path[0], color=\"black\", lw=2)\n",
    "    plt.plot(a_star.start[1]+1,a_star.start[0]+1,'g.',markersize=20)\n",
    "    plt.plot(a_star.goal[1]+1,a_star.goal[0]+1,'r.',markersize=20)\n",
    "\n",
    "    print('saving')\n",
    "    plt.savefig('initial_map.png')\n",
    "\n",
    "    for move in trajectory:\n",
    "        plt.plot([move[0][1], move[1][1]], [move[0][0], move[1][0]], color=\"red\", lw=2)\n",
    "\n",
    "    plt.show()\n",
    "    print(trajectory)\n",
    "\n",
    "landmarks = np.loadtxt(\"landmarks.csv\", delimiter=\",\")\n",
    "drive_track(None, landmarks)"
   ]
  },
  {
   "cell_type": "code",
   "execution_count": 7,
   "metadata": {},
   "outputs": [
    {
     "data": {
      "text/plain": [
       "array([0, 1])"
      ]
     },
     "execution_count": 7,
     "metadata": {},
     "output_type": "execute_result"
    }
   ],
   "source": [
    "import numpy as np\n",
    "from discretizer import Discretizer\n",
    "from a_star import A_Star\n",
    "import matplotlib.pyplot as plt\n",
    "import ev3_dc as ev3\n",
    "from matplotlib import colors\n",
    "\n",
    "world_coords=[300,300]\n",
    "landmarks = np.loadtxt(\"landmarks.csv\", delimiter=\",\")\n",
    "discretizer = Discretizer(landmarks, world_coords=world_coords)\n",
    "discretizer.createMap(surrounding=12)\n",
    "bin_map = np.where(discretizer.world_map >= 1, 1,0)\n",
    "np.unique(bin_map)"
   ]
  },
  {
   "cell_type": "code",
   "execution_count": 2,
   "metadata": {},
   "outputs": [
    {
     "name": "stdout",
     "output_type": "stream",
     "text": [
      "147.82311114375239\n",
      "-292.78143331185066\n",
      "53.285074947166564\n",
      "13.750987083139757\n"
     ]
    }
   ],
   "source": [
    "import numpy as np\n",
    "print(np.degrees(2.58))\n",
    "print(np.degrees(-5.11))\n",
    "print(np.degrees(0.93))\n",
    "print(np.degrees(0.24))"
   ]
  },
  {
   "cell_type": "code",
   "execution_count": 1,
   "metadata": {},
   "outputs": [],
   "source": [
    "trajectory = [[[87, 100], [86, 110], 0.1004987562112089, 1.6704649792860586], \n",
    "            [[86, 110], [86, 121], 0.11, -0.09966865249116208]]"
   ]
  },
  {
   "cell_type": "code",
   "execution_count": 2,
   "metadata": {},
   "outputs": [
    {
     "name": "stdout",
     "output_type": "stream",
     "text": [
      "Start driving!\n",
      "turn with 84.28940686250036 degrees\n",
      "drive straight for 0.1004987562112089cm\n",
      "turn with 5.710593137499646 degrees\n",
      "drive straight for 0.11cm\n"
     ]
    }
   ],
   "source": [
    "import ev3_dc as ev3\n",
    "import numpy as np\n",
    "\n",
    "try:\n",
    "    vehicle = ev3.TwoWheelVehicle (\n",
    "        0.02968,\n",
    "        0.12832, \n",
    "        protocol=ev3.USB\n",
    "    ) \n",
    "    print(\"Start driving!\")\n",
    "    speed = 20\n",
    "    trajectory[0][3] =  trajectory[0][3] - (np.pi/2)\n",
    "    for move in trajectory:\n",
    "        if np.degrees(move[3]) > 1 or np.degrees(move[3]) < -1 :\n",
    "            print(f\"turn with {-(np.degrees(move[3]))} degrees\")\n",
    "            vehicle.drive_turn(-(np.degrees(move[3])), 0.0).start(thread=False)\n",
    "        if move[2]>0.01:\n",
    "            print(f\"drive straight for {move[2]}cm\")\n",
    "            vehicle.drive_straight(move[2] * 2, speed=speed).start(thread=False)\n",
    "\n",
    "except Exception as e:\n",
    "    print(e)\n",
    "\n",
    "vehicle.stop()\n"
   ]
  },
  {
   "cell_type": "code",
   "execution_count": 4,
   "metadata": {},
   "outputs": [
    {
     "data": {
      "text/plain": [
       "[[[151, 151], [195, 151], 0.44, 0.01],\n",
       " [[195, 151], [229, 162], 0.35735136770411274, 0.3029012278803845],\n",
       " [[229, 162], [249, 186], 0.31240998703626616, 0.563156822717809],\n",
       " [[249, 186], [270, 210], 0.3189043743820395, -0.024091723424921274]]"
      ]
     },
     "execution_count": 4,
     "metadata": {},
     "output_type": "execute_result"
    }
   ],
   "source": [
    "trajectory"
   ]
  },
  {
   "cell_type": "code",
   "execution_count": 1,
   "metadata": {},
   "outputs": [],
   "source": [
    "import ev3_dc as ev3\n",
    "import numpy as np\n",
    "\n",
    "with ev3.TwoWheelVehicle(\n",
    "    0.02775, # 0.02968,  # radius_wheel_measured\n",
    "    0.13047,   # tread\n",
    "    protocol=ev3.USB,\n",
    ") as my_vehicle:\n",
    "    my_vehicle.drive_turn(3600, 0.0).start(thread=False)"
   ]
  },
  {
   "cell_type": "code",
   "execution_count": 3,
   "metadata": {},
   "outputs": [
    {
     "data": {
      "text/plain": [
       "0.1304721649484536"
      ]
     },
     "execution_count": 3,
     "metadata": {},
     "output_type": "execute_result"
    }
   ],
   "source": [
    "#tread * (3600 / turned_angle)\n",
    "0.14062 * (3600 / 3880)"
   ]
  },
  {
   "cell_type": "code",
   "execution_count": 2,
   "metadata": {},
   "outputs": [],
   "source": [
    "import ev3_dc as ev3\n",
    "radius = 0.02775\n",
    "tread = 0.13047\n",
    "with ev3.TwoWheelVehicle(\n",
    "    radius,  # radius_wheel_measured\n",
    "    tread,  # tread\n",
    "    protocol=ev3.USB,\n",
    ") as my_vehicle:\n",
    "    my_vehicle.drive_straight(2.).start(thread=False)"
   ]
  },
  {
   "cell_type": "code",
   "execution_count": 2,
   "metadata": {},
   "outputs": [
    {
     "data": {
      "text/plain": [
       "0.027750800000000003"
      ]
     },
     "execution_count": 2,
     "metadata": {},
     "output_type": "execute_result"
    }
   ],
   "source": [
    "radius * 1.87 / 2"
   ]
  },
  {
   "cell_type": "code",
   "execution_count": 2,
   "metadata": {},
   "outputs": [],
   "source": [
    "import numpy as np\n",
    "def plan_line(start, end):\n",
    "    distance = (np.sqrt((start[0] - end[0])**2 + (start[1]-end[1])**2)) * 3/ 100\n",
    "    angle = np.arctan2(end[1]-start[1], end[0]-start[0])\n",
    "    hit_obstacle = False\n",
    "    if np.degrees(angle) < 10:\n",
    "        angle = 2*np.pi - angle \n",
    "    if distance == 0: distance = 0.01\n",
    "    return distance, angle, hit_obstacle\n"
   ]
  },
  {
   "cell_type": "code",
   "execution_count": 11,
   "metadata": {},
   "outputs": [],
   "source": [
    "start = [26, 31] #[31, 26]\n",
    "end = [46, 37] #[37, 46] "
   ]
  },
  {
   "cell_type": "code",
   "execution_count": 12,
   "metadata": {},
   "outputs": [
    {
     "name": "stdout",
     "output_type": "stream",
     "text": [
      "73.30075576600639, 0.626418390534633\n"
     ]
    }
   ],
   "source": [
    "distance, angle, _ = plan_line(start,end)\n",
    "print(f'{np.degrees(angle)}, {distance}')"
   ]
  }
 ],
 "metadata": {
  "kernelspec": {
   "display_name": "Python 3",
   "language": "python",
   "name": "python3"
  },
  "language_info": {
   "codemirror_mode": {
    "name": "ipython",
    "version": 3
   },
   "file_extension": ".py",
   "mimetype": "text/x-python",
   "name": "python",
   "nbconvert_exporter": "python",
   "pygments_lexer": "ipython3",
   "version": "3.9.2"
  },
  "orig_nbformat": 4,
  "vscode": {
   "interpreter": {
    "hash": "e7370f93d1d0cde622a1f8e1c04877d8463912d04d973331ad4851f04de6915a"
   }
  }
 },
 "nbformat": 4,
 "nbformat_minor": 2
}
