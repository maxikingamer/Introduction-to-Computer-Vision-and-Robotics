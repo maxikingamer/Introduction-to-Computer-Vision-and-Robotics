{
 "cells": [
  {
   "cell_type": "code",
   "execution_count": 47,
   "metadata": {},
   "outputs": [],
   "source": [
    "import numpy as np \n",
    "import matplotlib.pyplot as plt\n",
    "\n",
    "#from skimage.draw import line_aa\n",
    "\n",
    "class Discretizer:\n",
    "    def __init__(self, landmarks, grid_size=1, world_coords=[400,500]):\n",
    "        self.grid_size = grid_size\n",
    "        self.world_map = np.zeros((int(world_coords[0]/grid_size),int(world_coords[1]/grid_size)))\n",
    "        self.middle_point = [int(world_coords[0]/2), int(world_coords[1]/2), 0]\n",
    "\n",
    "    def naive_line(self, r0, c0, r1, c1):\n",
    "        # The algorithm below works fine if c1 >= c0 and c1-c0 >= abs(r1-r0).\n",
    "        # If either of these cases are violated, do some switches.\n",
    "        if abs(c1-c0) < abs(r1-r0):\n",
    "            # Switch x and y, and switch again when returning.\n",
    "            xx, yy = self.naive_line(c0, r0, c1, r1)\n",
    "            return (yy, xx)\n",
    "\n",
    "        # At this point we know that the distance in columns (x) is greater\n",
    "        # than that in rows (y). Possibly one more switch if c0 > c1.\n",
    "        if c0 > c1:\n",
    "            return self.naive_line(r1, c1, r0, c0)\n",
    "\n",
    "        # We write y as a function of x, because the slope is always <= 1\n",
    "        # (in absolute value)\n",
    "        x = np.arange(c0, c1+1, dtype=float)\n",
    "        y = x * (r1-r0) / (c1-c0) + (c1*r0-c0*r1) / (c1-c0)\n",
    "\n",
    "        return (np.concatenate((np.floor(y), np.floor(y)+1)).astype(int), np.concatenate((x,x)).astype(int))\n",
    "\n",
    "    def createMap(self):\n",
    "        for landmark in landmarks:\n",
    "            landmark += self.middle_point\n",
    "            self.world_map[int(landmark[0])-2:int(landmark[0])+3, int(landmark[1])-2:int(landmark[1])+3] = 1\n",
    "\n",
    "        sorted_landmarks = landmarks[landmarks[:, 2].argsort()]\n",
    "        precessor = sorted_landmarks[0]\n",
    "\n",
    "        for landmark in sorted_landmarks[1:]:\n",
    "            line = self.naive_line(precessor[0], precessor[1], landmark[0], landmark[1])\n",
    "            precessor = landmark\n",
    "            \n",
    "            for border_x, border_y in zip(line[0], line[1]):\n",
    "                self.world_map[border_x, border_y] = 2\n",
    "\n",
    "        line = self.naive_line(sorted_landmarks[0][0], sorted_landmarks[0][1], sorted_landmarks[-1][0], sorted_landmarks[-1][1])\n",
    "        self.world_map[line[0], line[1]] = 2\n",
    "            \n",
    "        "
   ]
  },
  {
   "cell_type": "code",
   "execution_count": 48,
   "metadata": {},
   "outputs": [],
   "source": [
    "landmarks = np.loadtxt(\"landmarks.csv\", delimiter=\",\")\n",
    "test = Discretizer(landmarks)\n",
    "test.createMap()"
   ]
  },
  {
   "cell_type": "code",
   "execution_count": 49,
   "metadata": {},
   "outputs": [
    {
     "data": {
      "text/plain": [
       "<matplotlib.image.AxesImage at 0x7f61259a90>"
      ]
     },
     "execution_count": 49,
     "metadata": {},
     "output_type": "execute_result"
    },
    {
     "data": {
      "image/png": "[encoded data removed]",
      "text/plain": [
       "<Figure size 640x480 with 1 Axes>"
      ]
     },
     "metadata": {},
     "output_type": "display_data"
    }
   ],
   "source": [
    "plt.imshow(test.world_map)"
   ]
  },
  {
   "cell_type": "code",
   "execution_count": null,
   "metadata": {},
   "outputs": [],
   "source": []
  }
 ],
 "metadata": {
  "kernelspec": {
   "display_name": "Python 3",
   "language": "python",
   "name": "python3"
  },
  "language_info": {
   "codemirror_mode": {
    "name": "ipython",
    "version": 3
   },
   "file_extension": ".py",
   "mimetype": "text/x-python",
   "name": "python",
   "nbconvert_exporter": "python",
   "pygments_lexer": "ipython3",
   "version": "3.9.2"
  },
  "orig_nbformat": 4,
  "vscode": {
   "interpreter": {
    "hash": "e7370f93d1d0cde622a1f8e1c04877d8463912d04d973331ad4851f04de6915a"
   }
  }
 },
 "nbformat": 4,
 "nbformat_minor": 2
}
