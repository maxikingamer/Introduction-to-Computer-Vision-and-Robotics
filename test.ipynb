{
 "cells": [
  {
   "cell_type": "code",
   "execution_count": 1,
   "metadata": {},
   "outputs": [],
   "source": [
    "import ev3_dc as ev3\n",
    "with ev3.EV3(protocol=ev3.USB) as my_ev3:\n",
    "    motor_a = ev3.Motor(ev3.PORT_A, ev3_obj=my_ev3)\n",
    "    motor_c = ev3.Motor(ev3.PORT_C, ev3_obj=my_ev3)\n",
    "    motor_d = ev3.Motor(ev3.PORT_D, ev3_obj=my_ev3)\n",
    "    \n",
    "    # motor_a.start_move_by(360*1, speed=80, brake=True)\n",
    "    # motor_d.start_move_by(360*1, speed=80, brake=True)"
   ]
  },
  {
   "cell_type": "code",
   "execution_count": 50,
   "metadata": {},
   "outputs": [],
   "source": [
    "# circle\n",
    "motor_a.start_move_by(360*30, speed=100, brake=True)\n",
    "motor_d.start_move_by(360*24, speed=60, brake=True)\n"
   ]
  },
  {
   "cell_type": "code",
   "execution_count": 51,
   "metadata": {},
   "outputs": [],
   "source": [
    "# straight\n",
    "turns = 20\n",
    "motor_a.start_move_by(360*turns, speed=100, brake=True)\n",
    "motor_d.start_move_by(360*turns, speed=100, brake=True)"
   ]
  },
  {
   "cell_type": "code",
   "execution_count": 1,
   "metadata": {},
   "outputs": [],
   "source": [
    "import ev3_dc as ev3\n",
    "\n",
    "with ev3.TwoWheelVehicle(\n",
    "    0.0210,  # radius_wheel\n",
    "    0.1350,  # tread_measured\n",
    "    protocol=ev3.USB\n",
    ") as my_vehicle:\n",
    "    my_vehicle.drive_turn(3600, 0.0).start(thread=False)"
   ]
  },
  {
   "cell_type": "code",
   "execution_count": 1,
   "metadata": {},
   "outputs": [],
   "source": [
    "import ev3_dc as ev3\n",
    "\n",
    "with ev3.TwoWheelVehicle(\n",
    "    0.0210,  # radius_wheel\n",
    "    0.1350,  # tread\n",
    "    protocol=ev3.USB\n",
    ") as robotron:\n",
    "    parcours = (\n",
    "        robotron.drive_straight(distance=0.5, speed=100) +\n",
    "        robotron.drive_turn(120, 0.0) +\n",
    "        robotron.drive_straight(distance=0.5, speed=100) +\n",
    "        robotron.drive_turn(120, 0.0) +\n",
    "        robotron.drive_straight(distance=0.5, speed=100) +\n",
    "        robotron.drive_turn(120, 0.0)\n",
    "    )\n",
    "    parcours.start(thread=False)"
   ]
  },
  {
   "cell_type": "code",
   "execution_count": null,
   "metadata": {},
   "outputs": [],
   "source": []
  }
 ],
 "metadata": {
  "kernelspec": {
   "display_name": "Python 3.9.2 64-bit",
   "language": "python",
   "name": "python3"
  },
  "language_info": {
   "codemirror_mode": {
    "name": "ipython",
    "version": 3
   },
   "file_extension": ".py",
   "mimetype": "text/x-python",
   "name": "python",
   "nbconvert_exporter": "python",
   "pygments_lexer": "ipython3",
   "version": "3.9.2"
  },
  "orig_nbformat": 4,
  "vscode": {
   "interpreter": {
    "hash": "e7370f93d1d0cde622a1f8e1c04877d8463912d04d973331ad4851f04de6915a"
   }
  }
 },
 "nbformat": 4,
 "nbformat_minor": 2
}
